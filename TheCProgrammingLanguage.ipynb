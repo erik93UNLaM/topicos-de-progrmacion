{
 "cells": [
  {
   "cell_type": "markdown",
   "metadata": {},
   "source": [
    "# The C Programming Language\n",
    "\n",
    "For these examples, I will make a subdirectory called cstuff. There are four ways to run shell commands:\n",
    "\n",
    "1. `! command` in a cell\n",
    "2. `%%shell` at top of cell\n",
    "3. Open a Terminal\n",
    "4. Put an IFRAME in a notebook"
   ]
  },
  {
   "cell_type": "code",
   "execution_count": 35,
   "metadata": {},
   "outputs": [
    {
     "name": "stdout",
     "output_type": "stream",
     "text": [
      "mkdir: cannot create directory ‘cstuff’: File exists\n"
     ]
    }
   ],
   "source": [
    "! mkdir cstuff"
   ]
  },
  {
   "cell_type": "code",
   "execution_count": 62,
   "metadata": {},
   "outputs": [
    {
     "name": "stdout",
     "output_type": "stream",
     "text": [
      "Created file '/home/dblank/public_html/CS240 Computer Organization/2017-Fall/Notebooks/cstuff/hello.c'.\n"
     ]
    }
   ],
   "source": [
    "%%file cstuff/hello.c\n",
    "\n",
    "#include <stdio.h>\n",
    "\n",
    "int main(int argc, char **argv) {\n",
    "    printf(\"Hello, world!\\n\");\n",
    "    return 0;\n",
    "}\n"
   ]
  },
  {
   "cell_type": "markdown",
   "metadata": {},
   "source": [
    "## gcc GNU C Compiler"
   ]
  },
  {
   "cell_type": "code",
   "execution_count": 63,
   "metadata": {
    "collapsed": true
   },
   "outputs": [],
   "source": [
    "! gcc cstuff/hello.c -o cstuff/hello"
   ]
  },
  {
   "cell_type": "code",
   "execution_count": 64,
   "metadata": {},
   "outputs": [
    {
     "name": "stdout",
     "output_type": "stream",
     "text": [
      "asm\t       factorial.obj  hello.asm   hello-name.c\tloop\n",
      "factorial.asm  factorial.sym  hello.c\t  hello.obj\tloop.c\n",
      "factorial.c    hello\t      hello-name  hello.sym\n"
     ]
    }
   ],
   "source": [
    "! ls cstuff"
   ]
  },
  {
   "cell_type": "code",
   "execution_count": 39,
   "metadata": {},
   "outputs": [
    {
     "name": "stdout",
     "output_type": "stream",
     "text": [
      "cstuff/hello: ELF 64-bit LSB executable, x86-64, version 1 (SYSV), dynamically linked (uses shared libs), for GNU/Linux 2.6.32, BuildID[sha1]=1a7aeebae15d2920400b929a7bc1ac95aadefcfa, not stripped\n"
     ]
    }
   ],
   "source": [
    "! file cstuff/hello"
   ]
  },
  {
   "cell_type": "markdown",
   "metadata": {},
   "source": [
    "### Running a program"
   ]
  },
  {
   "cell_type": "code",
   "execution_count": 40,
   "metadata": {},
   "outputs": [
    {
     "name": "stdout",
     "output_type": "stream",
     "text": [
      "Hello, world!\n"
     ]
    }
   ],
   "source": [
    "! ./cstuff/hello"
   ]
  },
  {
   "cell_type": "code",
   "execution_count": 42,
   "metadata": {},
   "outputs": [
    {
     "name": "stdout",
     "output_type": "stream",
     "text": [
      "/opt/anaconda3/bin:/opt/anaconda3/bin:/usr/local/sbin:/usr/local/bin:/usr/sbin:/usr/bin\n"
     ]
    }
   ],
   "source": [
    "! echo $PATH"
   ]
  },
  {
   "cell_type": "code",
   "execution_count": 46,
   "metadata": {
    "collapsed": true
   },
   "outputs": [],
   "source": [
    "! export PATH=\"./cstuff:$PATH\""
   ]
  },
  {
   "cell_type": "code",
   "execution_count": 47,
   "metadata": {},
   "outputs": [
    {
     "name": "stdout",
     "output_type": "stream",
     "text": [
      "./cstuff:.:/opt/anaconda3/bin:/opt/anaconda3/bin:/usr/local/sbin:/usr/local/bin:/usr/sbin:/usr/bin\n"
     ]
    }
   ],
   "source": [
    "! echo $PATH"
   ]
  },
  {
   "cell_type": "code",
   "execution_count": 48,
   "metadata": {},
   "outputs": [
    {
     "name": "stdout",
     "output_type": "stream",
     "text": [
      "Hello, world!\n"
     ]
    }
   ],
   "source": [
    "! hello"
   ]
  },
  {
   "cell_type": "markdown",
   "metadata": {},
   "source": [
    "### A Command-Line Program with Arguments/Parameters\n",
    "\n",
    "You can think of these in two ways:\n",
    "\n",
    "1. a pointer to a pointer of a string\n",
    "1. an array of pointers to strings\n",
    "\n",
    "The first way:"
   ]
  },
  {
   "cell_type": "code",
   "execution_count": 5,
   "metadata": {},
   "outputs": [
    {
     "name": "stdout",
     "output_type": "stream",
     "text": [
      "/home/dblank/public_html/CS240 Computer Organization/2017-Fall/Notebooks\n"
     ]
    }
   ],
   "source": [
    "! pwd"
   ]
  },
  {
   "cell_type": "code",
   "execution_count": 49,
   "metadata": {},
   "outputs": [
    {
     "name": "stdout",
     "output_type": "stream",
     "text": [
      "Created file '/home/dblank/public_html/CS240 Computer Organization/2017-Fall/Notebooks/cstuff/hello-name.c'.\n"
     ]
    }
   ],
   "source": [
    "%%file cstuff/hello-name.c\n",
    "\n",
    "#include <stdio.h>\n",
    "\n",
    "int main(int argc, char **argv) {\n",
    "    printf(\"Hello, %s!\\n\", *(argv + 1));\n",
    "    return 0;\n",
    "}\n"
   ]
  },
  {
   "cell_type": "code",
   "execution_count": 50,
   "metadata": {},
   "outputs": [],
   "source": [
    "! gcc cstuff/hello-name.c -o cstuff/hello-name"
   ]
  },
  {
   "cell_type": "code",
   "execution_count": 53,
   "metadata": {},
   "outputs": [
    {
     "name": "stdout",
     "output_type": "stream",
     "text": [
      "Hello, Douglas!\n"
     ]
    }
   ],
   "source": [
    "! ./cstuff/hello-name Douglas Blank"
   ]
  },
  {
   "cell_type": "markdown",
   "metadata": {},
   "source": [
    "The second way:"
   ]
  },
  {
   "cell_type": "code",
   "execution_count": 106,
   "metadata": {},
   "outputs": [
    {
     "name": "stdout",
     "output_type": "stream",
     "text": [
      "Created file '/home/dblank/public_html/CS240 Computer Organization/2017-Fall/Notebooks/cstuff/hello-name.c'.\n"
     ]
    }
   ],
   "source": [
    "%%file cstuff/hello-name.c\n",
    "\n",
    "#include <stdio.h>\n",
    "\n",
    "int main(int argc, char* argv[]) {\n",
    "    printf(\"Hello, %s!\\n\", argv[1]);\n",
    "    return 0;\n",
    "}\n"
   ]
  },
  {
   "cell_type": "code",
   "execution_count": 24,
   "metadata": {
    "collapsed": true
   },
   "outputs": [],
   "source": [
    "! gcc cstuff/hello-name.c -o cstuff/hello-name"
   ]
  },
  {
   "cell_type": "code",
   "execution_count": 25,
   "metadata": {},
   "outputs": [
    {
     "name": "stdout",
     "output_type": "stream",
     "text": [
      "Hello, Doug!\n"
     ]
    }
   ],
   "source": [
    "! ./cstuff/hello-name Doug"
   ]
  },
  {
   "cell_type": "markdown",
   "metadata": {},
   "source": [
    "```bash\n",
    "export PATH=\"/home/dblank/lcc-1.3/install/:$PATH\"\n",
    "```"
   ]
  },
  {
   "cell_type": "markdown",
   "metadata": {},
   "source": [
    "### How does the console decide what is an argument?\n",
    "\n",
    "```\n",
    "\"Doug Blank\"\n",
    "Doug\\ Blank\n",
    "```\n",
    "\n",
    "Basically, any raw space will break up arguments"
   ]
  },
  {
   "cell_type": "code",
   "execution_count": 57,
   "metadata": {},
   "outputs": [
    {
     "name": "stdout",
     "output_type": "stream",
     "text": [
      "Hello, Doug Blank!\n"
     ]
    }
   ],
   "source": [
    "%%shell\n",
    "\n",
    "hello-name \"Doug Blank\""
   ]
  },
  {
   "cell_type": "markdown",
   "metadata": {},
   "source": [
    "## Terminal\n",
    "\n",
    "1. PATH - how does it find programs?\n",
    "2. current directory - where am I?\n"
   ]
  },
  {
   "cell_type": "code",
   "execution_count": 44,
   "metadata": {},
   "outputs": [
    {
     "data": {
      "text/html": [
       "\n",
       "        <iframe\n",
       "            width=\"100%\"\n",
       "            height=\"600px\"\n",
       "            src=\"https://jupyter.brynmawr.edu/user/dblank/terminals/2\"\n",
       "            frameborder=\"0\"\n",
       "            allowfullscreen\n",
       "        ></iframe>\n",
       "        "
      ],
      "text/plain": [
       "<IPython.lib.display.IFrame object at 0x7fb185cf8208>"
      ]
     },
     "metadata": {},
     "output_type": "display_data"
    }
   ],
   "source": [
    "%%python\n",
    "\n",
    "from metakernel.display import display\n",
    "from IPython.display import IFrame\n",
    "display(IFrame(src=\"https://jupyter.brynmawr.edu/user/dblank/terminals/2\", width=\"100%\", height=\"600px\"))"
   ]
  },
  {
   "cell_type": "code",
   "execution_count": 58,
   "metadata": {
    "collapsed": true
   },
   "outputs": [],
   "source": [
    "%%shell\n",
    "\n",
    "export PATH=\"/home/dblank/lcc-1.3/install/:$PATH\"\n"
   ]
  },
  {
   "cell_type": "code",
   "execution_count": 59,
   "metadata": {},
   "outputs": [
    {
     "name": "stdout",
     "output_type": "stream",
     "text": [
      "cpp: cstuff/hello.c:7 No newline at end of file\n",
      "STARTING PASS 1\n",
      " 35: contains unrecognizable characters\n",
      "545: contains unrecognizable characters\n",
      "548: contains unrecognizable characters\n",
      "549: contains unrecognizable characters\n",
      "4 errors found in first pass.\n"
     ]
    }
   ],
   "source": [
    "! lcc cstuff/hello.c -o cstuff/hello"
   ]
  },
  {
   "cell_type": "code",
   "execution_count": 60,
   "metadata": {
    "collapsed": true
   },
   "outputs": [],
   "source": [
    "%load cstuff/hello.asm"
   ]
  },
  {
   "cell_type": "code",
   "execution_count": 61,
   "metadata": {},
   "outputs": [
    {
     "name": "stderr",
     "output_type": "stream",
     "text": [
      "\u001b[0;31m\n",
      "Assemble error\n",
      "    line 34\n",
      "\n",
      "\u001b[0m\u001b[0;31mInvalid label \"lc3_L1_cstuff/hello\" in source line \"lc3_L1_cstuff/hello\", line #: 34\n",
      "\n",
      "\u001b[0m"
     ]
    }
   ],
   "source": [
    ".Orig x3000\n",
    "INIT_CODE\n",
    "LEA R6, #-1\n",
    "ADD R5, R6, #0\n",
    "ADD R6, R6, R6\n",
    "ADD R6, R6, R6\n",
    "ADD R6, R6, R5\n",
    "ADD R6, R6, #-1\n",
    "ADD R5, R5, R5\n",
    "ADD R5, R6, #0\n",
    "LD R4, GLOBAL_DATA_POINTER\n",
    "LD R7, GLOBAL_MAIN_POINTER\n",
    "jsrr R7\n",
    "HALT\n",
    "\n",
    "GLOBAL_DATA_POINTER .FILL GLOBAL_DATA_START\n",
    "GLOBAL_MAIN_POINTER .FILL main\n",
    ";;;;;;;;;;;;;;;;;;;;;;;;;;;;main;;;;;;;;;;;;;;;;;;;;;;;;;;;;\n",
    "main\n",
    "ADD R6, R6, #-2\n",
    "STR R7, R6, #0\n",
    "ADD R6, R6, #-1\n",
    "STR R5, R6, #0\n",
    "ADD R5, R6, #-1\n",
    "\n",
    "ADD R6, R6, #-1\n",
    "ADD R7, R4, #4\n",
    "ADD R6, R6, #-1\n",
    "STR R7, R6, #0\n",
    "ADD R0, R4, #2\n",
    "LDR R0, R0, #0\n",
    "jsrr R0\n",
    "ADD R7, R4, #3\n",
    "ldr R7, R7, #0\n",
    "lc3_L1_cstuff/hello\n",
    "STR R7, R5, #3\n",
    "ADD R6, R5, #1\n",
    "LDR R5, R6, #0\n",
    "ADD R6, R6, #1\n",
    "LDR R7, R6, #0\n",
    "ADD R6, R6, #1\n",
    "RET\n",
    "\n",
    ";;;;;;;;;;;;;;;;;;;;;;;;;;;;;;;;;;;;;;;;;;;;;;;;;;;;;;;;;;;;;;;;;; \n",
    ";\tvoid scanf(const char *format, ...) \n",
    ";;;;;;;;;;;;;;;;;;;;;;;;;;;;;;;;;;;;;;;;;;;;;;;;;;;;;;;;;;;;;;;;;; \n",
    "\n",
    "SCANF_PERCENT .FILL -37\n",
    "SCANF_C .FILL -99\n",
    "SCANF_D .FILL -100\n",
    "SCANF_S .FILL -115 \n",
    "SCANF_0 .FILL -48 \n",
    "SCANF_9 .FILL -57  \n",
    "SCANF_MINUS .FILL -45  \n",
    "SCANF_BUF .BLKW 6\n",
    " \n",
    "lc3_scanf \n",
    "ADD R6, R6, #-2 \n",
    "STR R7, R6, #0 \n",
    " \n",
    "ADD R6, R6, #-1\t\t;save R5 = bp \n",
    "STR R5, R6, #0\t\t \n",
    "ADD R5, R6, #-1 \n",
    " \n",
    "ADD R6, R6, #-1\t\t;save R4 = gp \n",
    "STR R4, R6, #0 \n",
    " \n",
    "ADD R5, R5, #4\t\t;cheating with the bp (no longer bp) \n",
    "LDR R4, R5, #0\t\t;got addr of format string \n",
    " \n",
    "\n",
    " \n",
    "\n",
    "SCANF_LOOP\t;outer loop, R0=tmp register for use with GETC \n",
    "\t\t\t;R2 holds either cur letter of format string or \n",
    "\t\t\t;current addr to store a char, dec, or string \n",
    " \n",
    " \n",
    " \n",
    "LDR R2, R4, #0 \n",
    " \n",
    "ADD R2, R2, #0\t\t;End of format string? (0x0000) \n",
    "BRz SCANF_DONE\n",
    " \n",
    "LD R1, SCANF_PERCENT\n",
    "ADD R0, R2, #0 \n",
    "ADD R0, R0, R1\t\t\n",
    "BRnp SCANF_MATCHCHAR\t\t ;% not found\n",
    " \n",
    ";;;;;;;;;;;;;;;;;;;;;;;;;;;;;;;;;;;;;;;;;% found! \n",
    "ADD R4, R4, #1\t\t;R4 points to next char of format string \n",
    "LDR R2, R4, #0 \n",
    " \n",
    "LD R1, SCANF_C\n",
    "ADD R0, R2, #0\t\t;next char = c? \n",
    "ADD R0, R0, R1 \n",
    "BRnp SCANF_CHECKD    \n",
    "\n",
    ";;;;;;;;;;;;;;;;;;;;;;;;;;;;;;;;;;;;;;;;;%c found\n",
    "ADD R5, R5, #1 \n",
    "LDR R2, R5, #0\t\t;R2 has addr for char to be read into \n",
    "\n",
    "GETC \n",
    "OUT\n",
    "STR R0, R2, #0 \n",
    " \n",
    "ADD R4, R4, #1 \n",
    "BRnzp SCANF_LOOP\n",
    " \n",
    "SCANF_CHECKD \n",
    ";is it %d? \n",
    "LD R1, SCANF_D\n",
    "ADD R0, R2, #0 \n",
    "ADD R0, R0, R1 \n",
    "BRnp SCANF_STR  \n",
    " \n",
    ";;;;;;;;;;;;;;;;;;;;;;;;;;;;;;;;;;;;;;;;;%d found\n",
    ";consider using vars to store reg\n",
    ";registers 0,1,2,3,7 available as tmp regs\n",
    " \n",
    " \n",
    "ADD R6, R6, #-1\t\t;saving current ptr into format string \n",
    "STR R4, R6, #0 \n",
    " \n",
    ";ADD R6, R6, #-7\t\t  ;making 7byte buffer for ascbin \n",
    ";ADD R4, R6, #0\t\t  ;ptr into that buffer \n",
    "LEA R4, SCANF_BUF \n",
    "LD R2, SCANF_0\n",
    "LD R1, SCANF_9\n",
    " \n",
    "SCANF_SCANNUM \n",
    " \n",
    "GETC \n",
    "OUT\n",
    "STR R0, R4, #0\t\t;Reading and storing typed char \n",
    " \n",
    "ADD R0, R2, R0 \n",
    "BRZP SCANF_CHECKEDLOWER \n",
    "\n",
    "LDR R0, R4, #0 \n",
    "LD R7, SCANF_MINUS\n",
    "ADD R0, R0, R7\n",
    "BRz SCANF_CHECKEDLOWER\n",
    " \n",
    "LEA R0, SCANF_BUF \n",
    "NOT R0, R0 \n",
    "ADD R0, R0, #1 \n",
    "ADD R0, R4, R0 \n",
    "BRz SCANF_SCANNUM\t  ;buffer is empty and wrong char, go to error?\n",
    " \n",
    "ADD R4, R4, #-1 \t\t;fixme: need to save this char\n",
    "BRnzp SCANF_NUMDONE \n",
    " \n",
    " \n",
    "SCANF_CHECKEDLOWER \n",
    " \n",
    "LDR R0, R4, #0 \n",
    "ADD R0, R1, R0 \n",
    "BRNZ SCANF_CHECKEDUPPER \n",
    " \n",
    "LEA R0, SCANF_BUF \n",
    "NOT R0, R0 \n",
    "ADD R0, R0, #1 \n",
    "ADD R0, R4, R0 \n",
    "BRz SCANF_SCANNUM\t  ;buffer is empty and wrong char, go to error?\n",
    " \n",
    "ADD R4, R4, #-1 \t\t;fixme: need to save this char\n",
    "BRnzp SCANF_NUMDONE \n",
    " \n",
    "SCANF_CHECKEDUPPER \n",
    " \n",
    "LEA R0, SCANF_BUF \n",
    "ADD R0, R0, #5 \n",
    "\n",
    "NOT R0, R0 \n",
    "ADD R0, R0, #1 \n",
    "ADD R0, R4, R0 \n",
    "BRz SCANF_NUMDONE\t  ;buffer is full \n",
    " \n",
    "ADD R4, R4, #1 \n",
    "BRnzp SCANF_SCANNUM \n",
    " \n",
    "SCANF_NUMDONE \n",
    "\t\t ;R4 points to last char entered in (ones digit) \n",
    " \n",
    ";ADD R7, R6, #0\t ;R7 points to the highest order digit \n",
    "LEA R7, SCANF_BUF \n",
    "LD R0, SCANF_MINUS\n",
    "LD R1, SCANF_BUF\n",
    "ADD R0, R0, R1\n",
    "BRnp SCANF_NOTMINUS\n",
    "ADD R7, R7, #1 \t;fixme check for - -\n",
    "\n",
    "SCANF_NOTMINUS\n",
    " \n",
    ";STR R2, R6, #-1  ;psuedo stored -'0' on stack \n",
    "AND R2, R2, #0\t ;R2 acts as the acumulator \n",
    " \n",
    "SCANF_CALC \n",
    " \n",
    "LDR R0, R7, #0 \n",
    ";LDR R1, R6, #-1 \n",
    "LD R1, SCANF_0\n",
    "ADD R0, R0, R1 \n",
    "ADD R2, R2, R0 \n",
    " \n",
    "NOT R1, R7 \n",
    "ADD R1, R1, #1 \n",
    "ADD R1, R4, R1 \n",
    "BRz SCANF_CALCDONE \n",
    "\t\t\t ;R2 = 10*R2 \n",
    "ADD R0, R2, #0 \n",
    "AND R1, R1, #0 \n",
    "ADD R1, R1, #9 ;R1 = counter \n",
    " \n",
    "SCANF_MULLOOP \n",
    "ADD R2, R2, R0 \n",
    "ADD R1, R1, #-1 \n",
    "BRnp SCANF_MULLOOP \n",
    " \n",
    "ADD R7, R7, #1 \n",
    "BRnzp SCANF_CALC \n",
    " \n",
    "SCANF_CALCDONE\t\t\t  \n",
    "\n",
    "LD R0, SCANF_MINUS\n",
    "LD R1, SCANF_BUF\n",
    "ADD R0, R0, R1\n",
    "BRnp SCANF_NOTNEG\n",
    "NOT R2, R2\n",
    "ADD R2, R2, #1\n",
    "\n",
    "SCANF_NOTNEG\n",
    " \n",
    " \n",
    "ADD R5, R5, #1 \n",
    "LDR R0, R5, #0 \t\t\n",
    " \n",
    "STR R2, R0, #0\t   ;store decimal number into address \n",
    " \n",
    ";ADD R6, R6, #7 \n",
    " \n",
    "LDR R4, R6, #0 \n",
    "ADD R6, R6, #1\t\t;restoring current ptr into format string \n",
    " \n",
    " \n",
    "ADD R4, R4, #1\t   ;point to next element of format string \n",
    "BRnzp SCANF_LOOP\n",
    " \n",
    " \n",
    "SCANF_STR  \n",
    "LD R1, SCANF_S\n",
    "ADD R0, R2, #0 \n",
    "ADD R0, R0, R1 \n",
    "BRnp SCANF_ERROR\n",
    " \n",
    ";;;;;;;;;;;;;;;;;;;;;;;;;;;;;;;;;;;;;;;;;%s found\n",
    "ADD R6, R6, #-1\t\t;saving current ptr into format string \n",
    "STR R4, R6, #0 \n",
    " \n",
    "ADD R5, R5, #1\t\t;getting starting addr of space for string to be read in \n",
    "LDR R4, R5, #0 \n",
    " \n",
    "SCANSTRLOOP \n",
    "GETC \n",
    "OUT\n",
    "STR R0, R4, #0\t\t;Reading and storing typed char \n",
    "ADD R4, R4, #1 \n",
    " \n",
    "ADD R0, R0, #-10\t;End of string? Looking for CR (0x000A) \n",
    "BRnp SCANSTRLOOP   \n",
    " \n",
    "SCANSTRDONE  \n",
    "AND R0, R0, #0\t\t;null terminate string \n",
    "STR R0, R4, #-1 \n",
    " \n",
    "LDR R4, R6, #0\t\t;restore r4 \n",
    "ADD R6, R6, #1 \n",
    " \n",
    "ADD R4, R4, #1 \n",
    "BRnzp SCANF_LOOP\n",
    " \n",
    " \n",
    "SCANF_MATCHCHAR \n",
    "ADD R4, R4, #1\n",
    "GETC \n",
    "OUT\n",
    "NOT R0, R0\n",
    "ADD R0, R0, #1\n",
    "ADD R0, R0, R2 \n",
    "BRz SCANF_LOOP\n",
    " \n",
    "SCANF_ERROR\n",
    "SCANF_DONE\n",
    " \n",
    "LDR R4, R6, #0\t\t;restore R4 \n",
    "ADD R6, R6, #1 \n",
    " \n",
    "LDR R5, R6, #0\t\t;restore bp \n",
    "ADD R6, R6, #1 \n",
    " \n",
    "LDR R7, R6, #0\t\t;restore ret addr \n",
    "ADD R6, R6, #1 \n",
    " \n",
    "RET \n",
    ";;;;;;;;;;;;;;;;;;;;;;;;;;;;;;;;;;;;;;;;;;;;;;;;;;;;;;;;;;;;;;;;;;\n",
    ";\tvoid printf(const char *format, ...)\n",
    ";;;;;;;;;;;;;;;;;;;;;;;;;;;;;;;;;;;;;;;;;;;;;;;;;;;;;;;;;;;;;;;;;;\n",
    "\n",
    "PRINTF_PERCENT .FILL -37\n",
    "PRINTF_C .FILL -99\n",
    "PRINTF_D .FILL -100\n",
    "PRINTF_S .FILL -115\n",
    "PRINTF_B .FILL -98\n",
    "PRINTF_O .FILL -111\n",
    "PRINTF_X .FILL -120\n",
    "PRINTF_ASCII .FILL 48 \t\t;postive ascii value of '0'\n",
    ".FILL 49\n",
    ".FILL 50\n",
    ".FILL 51\n",
    ".FILL 52\n",
    ".FILL 53\n",
    ".FILL 54\n",
    ".FILL 55\n",
    ".FILL 56\n",
    ".FILL 57\n",
    ".FILL 65        ;A\n",
    ".FILL 66\n",
    ".FILL 67\n",
    ".FILL 68\n",
    ".FILL 69\n",
    ".FILL 70\n",
    "PRINTF_MINUS .FILL 45  \n",
    "PRINTF_BUF .BLKW 18\n",
    " \n",
    "\n",
    "lc3_printf\n",
    "ADD R6, R6, #-2\n",
    "STR R7, R6, #0\t\t;return address\n",
    "ADD R6, R6, #-1\n",
    "STR R5, R6, #0\n",
    "ADD R5, R6, #-1\n",
    "\n",
    "ADD R6, R6, #-1\n",
    "STR R4, R6, #0\n",
    "\n",
    "ADD R5, R5, #4\t\t;cheating with the bp (no longer bp)\n",
    "LDR R4, R5, #0\t\t;got addr of format string\n",
    "\n",
    "\n",
    "PRINTF_LOOP\t;;;;;;;;;;;;;;;;;;;;;;;;;;;;;;\n",
    "\n",
    "LDR R0, R4, #0\n",
    "\n",
    "ADD R0, R0, #0\t\t;End of string? (0x0000)\n",
    "BRz PRINTF_DONE\n",
    "\n",
    "ADD R2, R0, #0\n",
    "LD R1, PRINTF_PERCENT\n",
    "ADD R2, R2, R1\n",
    "BRnp PRINTF_CHAR\t\t\n",
    "\n",
    "ADD R4, R4, #1\n",
    "LDR R0, R4, #0\n",
    ";is it %c?\n",
    "ADD R2, R0, #0\n",
    "LD R3, PRINTF_C\n",
    "ADD R2, R2, R3\n",
    "BRnp PRINTF_CHECKSTR\n",
    ";;;;;;;;;;;;;;;;;;;;;;;;;;;;;;;;;;;;;;;;;%c\n",
    "ADD R5, R5, #1\n",
    "LDR R0, R5, #0\n",
    "\n",
    "PRINTF_CHAR\n",
    "OUT\n",
    "\n",
    "ADD R4, R4, #1\n",
    "BRnzp PRINTF_LOOP\n",
    "\n",
    "PRINTF_CHECKSTR\n",
    ";is it %s?\n",
    "ADD R2, R0, #0\n",
    "LD R7, PRINTF_S\n",
    "ADD R2, R2, R7\n",
    "BRnp PRINTF_CHECKDEC\t\t\n",
    "\n",
    ";;;;;;;;;;;;;;;;;;;;;;;;;;;;;;;;;;;;;;;;;%s\n",
    "\n",
    "ADD R5, R5, #1\n",
    "LDR R0, R5, #0\n",
    "PUTS\n",
    "\n",
    "ADD R4, R4, #1\n",
    "BRnzp PRINTF_LOOP\n",
    "\n",
    "PRINTF_CHECKDEC\n",
    ";is it %d?\n",
    "ADD R2, R0, #0\n",
    "LD R7, PRINTF_D\n",
    "ADD R2, R2, R7\n",
    ";BRnp PRINTF_ERROR\n",
    "BRnp PRINTF_CHECKHEX\n",
    "\n",
    "AND R2, R2, #0\n",
    "ADD R2, R2, #-10\t\t;going to divide by 10 by using sub loop\n",
    "BRnzp PRINTF_NUM\n",
    "\n",
    "PRINTF_CHECKHEX\n",
    "\n",
    "ADD R2, R0, #0\n",
    "LD R7, PRINTF_X\n",
    "ADD R2, R2, R7\n",
    "BRnp PRINTF_CHECKOCT\n",
    "\n",
    "AND R2, R2, #0\n",
    "ADD R2, R2, #-16\t\t;going to divide by 10 by using sub loop\n",
    "BRnzp PRINTF_NUM\n",
    "\n",
    "PRINTF_CHECKOCT\n",
    "\n",
    "ADD R2, R0, #0\n",
    "LD R7, PRINTF_O\n",
    "ADD R2, R2, R7\n",
    "BRnp PRINTF_CHECKBIN\n",
    "\n",
    "AND R2, R2, #0\n",
    "ADD R2, R2, #-8\t\t;going to divide by 10 by using sub loop\n",
    "BRnzp PRINTF_NUM\n",
    "\n",
    "PRINTF_CHECKBIN\n",
    "\n",
    "ADD R2, R0, #0\n",
    "LD R7, PRINTF_B\n",
    "ADD R2, R2, R7\n",
    "BRnp PRINTF_ERROR\n",
    "\n",
    "AND R2, R2, #0\n",
    "ADD R2, R2, #-2\t\t;going to divide by 10 by using sub loop\n",
    ";BRnzp PRINTF_NUM\n",
    "\n",
    "\n",
    "\n",
    ";;;;;;;;;;;;;;;;;;;;;;;;;;;;;;;;;;;;;;;;;%d\n",
    "PRINTF_NUM\n",
    "\n",
    "LEA R7, PRINTF_BUF\n",
    "ADD R7, R7, #15 \n",
    "ADD R7, R7, #1 \n",
    "\n",
    ";AND R2, R2, #0\n",
    ";ADD R2, R2, #-10\t\t;going to divide by 10 by using sub loop\n",
    "\n",
    "ADD R5, R5, #1\t\t\t;acquire the binary number\n",
    "LDR R0, R5, #0\n",
    "\n",
    "ADD R0, R0, #0\n",
    "BRzp PRINTF_DECPOS \n",
    "\n",
    "NOT R0, R0\t\t\t\t;make num positive for sub loop\n",
    "ADD R0, R0, #1\n",
    "\n",
    "PRINTF_DECPOS\n",
    "\n",
    "AND R3, R3, #0\n",
    "ADD R3, R3, #-1\n",
    "\n",
    "PRINTF_DIVLOOP\n",
    "ADD R3, R3, #1\t\t\t;num/10 \n",
    "ADD R0, R0, R2\t\t\t;R0 = num % 10 - 10\n",
    "BRzp PRINTF_DIVLOOP\n",
    "\n",
    "ADD R3, R3, #0\n",
    "BRz PRINTF_LASTDIGIT\n",
    "\n",
    ";LD R1, PRINTF_ASCII\n",
    ";ADD R1, R1, R0\n",
    ";NOT R2, R2\n",
    ";ADD R1, R1, R2 \n",
    ";ADD R1, R1, #1\n",
    ";NOT R2, R2\n",
    ";;;;;ADD R1, R1, #10\n",
    ";STR R1, R7, #0\n",
    ";ADD R7, R7, #-1\t\t\t;stored ascii value of one digit\n",
    "\n",
    "LEA R1, PRINTF_ASCII\n",
    "ADD R1, R1, R0\n",
    "NOT R2, R2\n",
    "ADD R1, R1, R2 \n",
    "ADD R1, R1, #1\n",
    "NOT R2, R2\n",
    "LDR R1, R1, #0\n",
    "STR R1, R7, #0\n",
    "ADD R7, R7, #-1\t\t\t;stored ascii value of one digit\n",
    "\n",
    "ADD R0, R3, #0\t\t\t;num/10\n",
    "\n",
    "BRnzp PRINTF_DECPOS\n",
    "\n",
    "PRINTF_LASTDIGIT\n",
    "\n",
    ";LD R1, PRINTF_ASCII\n",
    ";ADD R1, R1, R0\n",
    ";ADD R1, R1, #10\n",
    ";STR R1, R7, #0\n",
    "\n",
    "LEA R1, PRINTF_ASCII\n",
    "ADD R1, R1, R0\n",
    "NOT R2, R2\n",
    "ADD R1, R1, R2 \n",
    "ADD R1, R1, #1\n",
    "NOT R2, R2\n",
    "LDR R1, R1, #0\n",
    "STR R1, R7, #0\t\t\t;stored ascii value of highest order digit\n",
    "\n",
    "LDR R0, R5, #0\n",
    "ADD R0, R0, #0\n",
    "BRzp PRINTF_DECSTRING\n",
    "\n",
    "LD R0, PRINTF_MINUS\t\t;num was negative\n",
    "ADD R7, R7, #-1\n",
    "STR R0, R7, #0\t\t\t;stored ascii value negative sign\n",
    "\n",
    "PRINTF_DECSTRING\t\t;print the calculated string\n",
    "ADD R0, R7, #0\n",
    "PUTS\n",
    "\n",
    "ADD R4, R4, #1\n",
    "BRnzp PRINTF_LOOP\n",
    "\n",
    "PRINTF_ERROR\n",
    "PRINTF_DONE\n",
    "\n",
    "LDR R4, R6, #0\t\t;restore R4\n",
    "ADD R6, R6, #1\n",
    "\n",
    "LDR R5, R6, #0\t\t;restore bp\n",
    "ADD R6, R6, #1\n",
    "\n",
    "LDR R7, R6, #0\t\t;restore ret addr\n",
    "ADD R6, R6, #1\n",
    "\n",
    "RET\n",
    "\n",
    "GLOBAL_DATA_START\n",
    "L1_cstuff/hello .FILL lc3_L1_cstuff/hello\n",
    "scanf .FILL lc3_scanf\n",
    "printf .FILL lc3_printf\n",
    "L3_cstuff/hello .FILL #0\n",
    "L2_cstuff/hello .STRINGZ \"Hello, world!\\n\"\n",
    ".END\n"
   ]
  },
  {
   "cell_type": "code",
   "execution_count": 80,
   "metadata": {},
   "outputs": [
    {
     "name": "stdout",
     "output_type": "stream",
     "text": [
      "Hello, world!\n",
      "============================================================\n",
      "Computation completed\n",
      "============================================================\n",
      "Instructions: 276\n",
      "Cycles: 2130 (0.001065 milliseconds)\n",
      "\n",
      "============================================================\n",
      "Registers:\n",
      "============================================================\n",
      "PC: x048E\n",
      "N: 1 Z: 0 P: 0 \n",
      "R0: x0000 R1: xFFDB R2: xFFE5 R3: x0000 \n",
      "R4: x315B R5: xEFFF R6: xEFFE R7: x300C \n"
     ]
    }
   ],
   "source": [
    "%exe"
   ]
  },
  {
   "cell_type": "code",
   "execution_count": null,
   "metadata": {
    "collapsed": true
   },
   "outputs": [],
   "source": [
    "%dis"
   ]
  },
  {
   "cell_type": "markdown",
   "metadata": {},
   "source": [
    "Unfortuantely, the lc assembler has some bugs."
   ]
  },
  {
   "cell_type": "markdown",
   "metadata": {},
   "source": [
    "# Tail-call Optimization"
   ]
  },
  {
   "cell_type": "code",
   "execution_count": 107,
   "metadata": {},
   "outputs": [
    {
     "name": "stdout",
     "output_type": "stream",
     "text": [
      "Created file '/home/dblank/public_html/CS240 Computer Organization/2017-Fall/Notebooks/cstuff/loop.c'.\n"
     ]
    }
   ],
   "source": [
    "%%file cstuff/loop.c\n",
    "\n",
    "int main() {\n",
    "    return main();\n",
    "}"
   ]
  },
  {
   "cell_type": "code",
   "execution_count": 108,
   "metadata": {
    "collapsed": true
   },
   "outputs": [],
   "source": [
    "! gcc cstuff/loop.c -o cstuff/loop"
   ]
  },
  {
   "cell_type": "code",
   "execution_count": 109,
   "metadata": {},
   "outputs": [
    {
     "name": "stdout",
     "output_type": "stream",
     "text": [
      "Segmentation fault\n"
     ]
    }
   ],
   "source": [
    "! cstuff/loop"
   ]
  },
  {
   "cell_type": "markdown",
   "metadata": {},
   "source": [
    "Why does it crash?\n",
    "\n",
    "Try this, with optimization enabled:"
   ]
  },
  {
   "cell_type": "code",
   "execution_count": 112,
   "metadata": {
    "collapsed": true
   },
   "outputs": [],
   "source": [
    "! gcc -O2 cstuff/loop.c -o cstuff/loop"
   ]
  },
  {
   "cell_type": "code",
   "execution_count": null,
   "metadata": {
    "collapsed": true
   },
   "outputs": [],
   "source": [
    "! cstuff/loop"
   ]
  }
 ],
 "metadata": {
  "kernelspec": {
   "display_name": "Calysto LC3",
   "language": "asm",
   "name": "calysto_lc3"
  },
  "language_info": {
   "file_extension": ".asm",
   "mimetype": "text/x-gas",
   "name": "gas"
  }
 },
 "nbformat": 4,
 "nbformat_minor": 2
}
